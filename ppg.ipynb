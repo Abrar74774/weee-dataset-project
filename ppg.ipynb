{
 "cells": [
  {
   "cell_type": "code",
   "execution_count": 3,
   "metadata": {},
   "outputs": [
    {
     "name": "stdout",
     "output_type": "stream",
     "text": [
      "Collecting tsfresh\n",
      "  Using cached tsfresh-0.20.1-py2.py3-none-any.whl (95 kB)\n",
      "Requirement already satisfied: pandas>=0.25.0 in c:\\users\\abrar\\anaconda3\\lib\\site-packages (from tsfresh) (1.4.4)\n",
      "Requirement already satisfied: scikit-learn>=0.22.0 in c:\\users\\abrar\\anaconda3\\lib\\site-packages (from tsfresh) (1.1.3)\n",
      "Requirement already satisfied: patsy>=0.4.1 in c:\\users\\abrar\\anaconda3\\lib\\site-packages (from tsfresh) (0.5.2)\n",
      "Requirement already satisfied: dask[dataframe]>=2.9.0 in c:\\users\\abrar\\anaconda3\\lib\\site-packages (from tsfresh) (2022.7.0)\n",
      "Requirement already satisfied: distributed>=2.11.0 in c:\\users\\abrar\\anaconda3\\lib\\site-packages (from tsfresh) (2022.7.0)\n",
      "Requirement already satisfied: statsmodels>=0.13 in c:\\users\\abrar\\anaconda3\\lib\\site-packages (from tsfresh) (0.13.2)\n",
      "Requirement already satisfied: tqdm>=4.10.0 in c:\\users\\abrar\\anaconda3\\lib\\site-packages (from tsfresh) (4.64.1)\n",
      "Requirement already satisfied: cloudpickle in c:\\users\\abrar\\anaconda3\\lib\\site-packages (from tsfresh) (2.0.0)\n",
      "Collecting stumpy>=1.7.2\n",
      "  Using cached stumpy-1.12.0-py3-none-any.whl (169 kB)\n",
      "Requirement already satisfied: requests>=2.9.1 in c:\\users\\abrar\\anaconda3\\lib\\site-packages (from tsfresh) (2.28.1)\n",
      "Requirement already satisfied: scipy>=1.2.0 in c:\\users\\abrar\\anaconda3\\lib\\site-packages (from tsfresh) (1.9.1)\n",
      "Requirement already satisfied: numpy>=1.15.1 in c:\\users\\abrar\\anaconda3\\lib\\site-packages (from tsfresh) (1.24.4)\n",
      "Requirement already satisfied: packaging>=20.0 in c:\\users\\abrar\\anaconda3\\lib\\site-packages (from dask[dataframe]>=2.9.0->tsfresh) (21.3)\n",
      "Requirement already satisfied: fsspec>=0.6.0 in c:\\users\\abrar\\anaconda3\\lib\\site-packages (from dask[dataframe]>=2.9.0->tsfresh) (2022.7.1)\n",
      "Requirement already satisfied: partd>=0.3.10 in c:\\users\\abrar\\anaconda3\\lib\\site-packages (from dask[dataframe]>=2.9.0->tsfresh) (1.2.0)\n",
      "Requirement already satisfied: toolz>=0.8.2 in c:\\users\\abrar\\anaconda3\\lib\\site-packages (from dask[dataframe]>=2.9.0->tsfresh) (0.11.2)\n",
      "Requirement already satisfied: pyyaml>=5.3.1 in c:\\users\\abrar\\anaconda3\\lib\\site-packages (from dask[dataframe]>=2.9.0->tsfresh) (6.0)\n",
      "Requirement already satisfied: tblib>=1.6.0 in c:\\users\\abrar\\anaconda3\\lib\\site-packages (from distributed>=2.11.0->tsfresh) (1.7.0)\n",
      "Requirement already satisfied: jinja2 in c:\\users\\abrar\\anaconda3\\lib\\site-packages (from distributed>=2.11.0->tsfresh) (2.11.3)\n",
      "Requirement already satisfied: click>=6.6 in c:\\users\\abrar\\anaconda3\\lib\\site-packages (from distributed>=2.11.0->tsfresh) (8.0.4)\n",
      "Requirement already satisfied: psutil>=5.0 in c:\\users\\abrar\\anaconda3\\lib\\site-packages (from distributed>=2.11.0->tsfresh) (5.9.0)\n",
      "Requirement already satisfied: sortedcontainers!=2.0.0,!=2.0.1 in c:\\users\\abrar\\anaconda3\\lib\\site-packages (from distributed>=2.11.0->tsfresh) (2.4.0)\n",
      "Requirement already satisfied: zict>=0.1.3 in c:\\users\\abrar\\anaconda3\\lib\\site-packages (from distributed>=2.11.0->tsfresh) (2.1.0)\n",
      "Requirement already satisfied: tornado<6.2,>=6.0.3 in c:\\users\\abrar\\anaconda3\\lib\\site-packages (from distributed>=2.11.0->tsfresh) (6.1)\n",
      "Requirement already satisfied: msgpack>=0.6.0 in c:\\users\\abrar\\anaconda3\\lib\\site-packages (from distributed>=2.11.0->tsfresh) (1.0.3)\n",
      "Requirement already satisfied: urllib3 in c:\\users\\abrar\\anaconda3\\lib\\site-packages (from distributed>=2.11.0->tsfresh) (1.26.11)\n",
      "Requirement already satisfied: locket>=1.0.0 in c:\\users\\abrar\\anaconda3\\lib\\site-packages (from distributed>=2.11.0->tsfresh) (1.0.0)\n",
      "Requirement already satisfied: python-dateutil>=2.8.1 in c:\\users\\abrar\\anaconda3\\lib\\site-packages (from pandas>=0.25.0->tsfresh) (2.8.2)\n",
      "Requirement already satisfied: pytz>=2020.1 in c:\\users\\abrar\\anaconda3\\lib\\site-packages (from pandas>=0.25.0->tsfresh) (2022.1)\n",
      "Requirement already satisfied: six in c:\\users\\abrar\\anaconda3\\lib\\site-packages (from patsy>=0.4.1->tsfresh) (1.16.0)\n",
      "Requirement already satisfied: idna<4,>=2.5 in c:\\users\\abrar\\anaconda3\\lib\\site-packages (from requests>=2.9.1->tsfresh) (3.3)\n",
      "Requirement already satisfied: certifi>=2017.4.17 in c:\\users\\abrar\\anaconda3\\lib\\site-packages (from requests>=2.9.1->tsfresh) (2022.9.14)\n",
      "Requirement already satisfied: charset-normalizer<3,>=2 in c:\\users\\abrar\\anaconda3\\lib\\site-packages (from requests>=2.9.1->tsfresh) (2.0.4)\n",
      "Requirement already satisfied: joblib>=1.0.0 in c:\\users\\abrar\\anaconda3\\lib\\site-packages (from scikit-learn>=0.22.0->tsfresh) (1.2.0)\n",
      "Requirement already satisfied: threadpoolctl>=2.0.0 in c:\\users\\abrar\\anaconda3\\lib\\site-packages (from scikit-learn>=0.22.0->tsfresh) (3.2.0)\n",
      "Collecting numba>=0.55.2\n",
      "  Using cached numba-0.58.1-cp39-cp39-win_amd64.whl (2.6 MB)\n",
      "Requirement already satisfied: colorama in c:\\users\\abrar\\anaconda3\\lib\\site-packages (from tqdm>=4.10.0->tsfresh) (0.4.5)\n",
      "Collecting llvmlite<0.42,>=0.41.0dev0\n",
      "  Using cached llvmlite-0.41.1-cp39-cp39-win_amd64.whl (28.1 MB)\n",
      "Requirement already satisfied: pyparsing!=3.0.5,>=2.0.2 in c:\\users\\abrar\\anaconda3\\lib\\site-packages (from packaging>=20.0->dask[dataframe]>=2.9.0->tsfresh) (3.0.9)\n",
      "Requirement already satisfied: heapdict in c:\\users\\abrar\\anaconda3\\lib\\site-packages (from zict>=0.1.3->distributed>=2.11.0->tsfresh) (1.0.1)\n",
      "Requirement already satisfied: MarkupSafe>=0.23 in c:\\users\\abrar\\anaconda3\\lib\\site-packages (from jinja2->distributed>=2.11.0->tsfresh) (2.0.1)\n",
      "Installing collected packages: llvmlite, numba, stumpy, tsfresh\n",
      "  Attempting uninstall: llvmlite\n",
      "    Found existing installation: llvmlite 0.38.0\n",
      "Note: you may need to restart the kernel to use updated packages.\n"
     ]
    },
    {
     "name": "stderr",
     "output_type": "stream",
     "text": [
      "ERROR: Cannot uninstall 'llvmlite'. It is a distutils installed project and thus we cannot accurately determine which files belong to it which would lead to only a partial uninstall.\n"
     ]
    }
   ],
   "source": [
    "%pip install tsfresh"
   ]
  }
 ],
 "metadata": {
  "kernelspec": {
   "display_name": "base",
   "language": "python",
   "name": "python3"
  },
  "language_info": {
   "codemirror_mode": {
    "name": "ipython",
    "version": 3
   },
   "file_extension": ".py",
   "mimetype": "text/x-python",
   "name": "python",
   "nbconvert_exporter": "python",
   "pygments_lexer": "ipython3",
   "version": "3.9.13"
  }
 },
 "nbformat": 4,
 "nbformat_minor": 2
}
