{
 "cells": [
  {
   "cell_type": "code",
   "execution_count": null,
   "metadata": {},
   "outputs": [],
   "source": [
    "path = \"./dataset/P*/E4/EDA.csv\"\n",
    "eda_all = []\n",
    "for filename in glob.glob(path):\n",
    "    eda_all.append(pd.read_csv(filename))\n",
    "\n",
    "text_path = \"./dataset/P*/VO2/Details.txt\"\n",
    "time_i_all = []\n",
    "for i, filename in enumerate(glob.glob(text_path)):\n",
    "    time_i_all.append(find_index_in_dataframe(filename, eda_all[i], 4))\n",
    "\n",
    "print(time_i_all)"
   ]
  }
 ],
 "metadata": {
  "language_info": {
   "name": "python"
  }
 },
 "nbformat": 4,
 "nbformat_minor": 2
}
